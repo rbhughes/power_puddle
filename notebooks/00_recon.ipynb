{
 "cells": [
  {
   "cell_type": "code",
   "execution_count": null,
   "id": "5371897d",
   "metadata": {},
   "outputs": [
    {
     "name": "stdout",
     "output_type": "stream",
     "text": [
      "        table_name\n",
      "0  monthly_nuclear\n",
      "1           plants\n",
      "       plant_id_eia                       plant_name_eia  city    county  \\\n",
      "0             69008                         TPE MD GA140  None   Garrett   \n",
      "1             69007                         TPE MD GA137  None   Garrett   \n",
      "2             69006                    St. Clair Solar 5  None  St Clair   \n",
      "3             69005             Chaberton Solar Greyrock  None  Wicomico   \n",
      "4             69004          Adelite Storage Project LLC  None     Milam   \n",
      "...             ...                                  ...   ...       ...   \n",
      "18448        880107  SPMT Marcus Hook Industrial Complex  None      None   \n",
      "18449        880108         Grain Processing Corporation  None      None   \n",
      "18450        880109                Pratt Paper (OH), LLC  None      None   \n",
      "18451        880110        Holston Army Ammunition Plant  None      None   \n",
      "18452        880102                  AES Puerto Rico, LP  None      None   \n",
      "\n",
      "        latitude  longitude state street_address zip_code          timezone  \n",
      "0      39.386860 -79.387451    MD           None     None  America/New_York  \n",
      "1      39.379116 -79.367783    MD           None     None  America/New_York  \n",
      "2      38.587326 -89.809837    IL           None     None   America/Chicago  \n",
      "3      38.389580 -75.418129    MD           None     None  America/New_York  \n",
      "4      30.622383 -97.210503    TX           None     None   America/Chicago  \n",
      "...          ...        ...   ...            ...      ...               ...  \n",
      "18448  39.807598 -75.423897    PA           None     None  America/New_York  \n",
      "18449  38.655201 -87.181396    IN           None     None  America/New_York  \n",
      "18450  40.537998 -84.190941    OH           None     None  America/New_York  \n",
      "18451  36.549301 -82.634201    TN           None     None  America/New_York  \n",
      "18452  17.947701 -66.153999    PR           None     None   America/Caracas  \n",
      "\n",
      "[18453 rows x 10 columns]\n"
     ]
    }
   ],
   "source": [
    "from pathlib import Path\n",
    "import duckdb\n",
    "\n",
    "project_root = Path.cwd().parent\n",
    "pudl_db = project_root / \"data\" / \"pudl.duckdb\"\n",
    "\n",
    "con = duckdb.connect(pudl_db)\n",
    "tables_df = con.execute(\n",
    "    \"SELECT table_name FROM information_schema.tables WHERE table_schema = 'main';\"\n",
    ").fetchdf()\n",
    "print(tables_df)\n",
    "\n",
    "\n",
    "# df2 = con.execute(\"SELECT * FROM otherplants LIMIT 5\").fetchdf()\n",
    "df = con.execute(\"SELECT * FROM plants\").fetchdf()\n",
    "# print(df)\n",
    "con.close()\n"
   ]
  }
 ],
 "metadata": {
  "kernelspec": {
   "display_name": "nuclear_puddle",
   "language": "python",
   "name": "python3"
  },
  "language_info": {
   "codemirror_mode": {
    "name": "ipython",
    "version": 3
   },
   "file_extension": ".py",
   "mimetype": "text/x-python",
   "name": "python",
   "nbconvert_exporter": "python",
   "pygments_lexer": "ipython3",
   "version": "3.12.11"
  }
 },
 "nbformat": 4,
 "nbformat_minor": 5
}
